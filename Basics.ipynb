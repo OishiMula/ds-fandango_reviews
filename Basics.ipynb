{
 "cells": [
  {
   "cell_type": "markdown",
   "metadata": {},
   "source": [
    "# Investigating Fandango Movie Ratings\n",
    "In this project, I'll go into Fandango.com and take a deep look at their scores. I will apply some science to review if any ratings are skewed, compare them to possibly other moving rating websites, and apply comparisons over the years."
   ]
  },
  {
   "cell_type": "code",
   "execution_count": 46,
   "metadata": {},
   "outputs": [
    {
     "name": "stdout",
     "output_type": "stream",
     "text": [
      "                             FILM  RottenTomatoes  RottenTomatoes_User  \\\n",
      "0  Avengers: Age of Ultron (2015)              74                   86   \n",
      "1               Cinderella (2015)              85                   80   \n",
      "2                  Ant-Man (2015)              80                   90   \n",
      "3          Do You Believe? (2015)              18                   84   \n",
      "4   Hot Tub Time Machine 2 (2015)              14                   28   \n",
      "\n",
      "   Metacritic  Metacritic_User  IMDB  Fandango_Stars  Fandango_Ratingvalue  \\\n",
      "0          66              7.1   7.8             5.0                   4.5   \n",
      "1          67              7.5   7.1             5.0                   4.5   \n",
      "2          64              8.1   7.8             5.0                   4.5   \n",
      "3          22              4.7   5.4             5.0                   4.5   \n",
      "4          29              3.4   5.1             3.5                   3.0   \n",
      "\n",
      "   RT_norm  RT_user_norm  Metacritic_norm  Metacritic_user_nom  IMDB_norm  \\\n",
      "0     3.70           4.3             3.30                 3.55       3.90   \n",
      "1     4.25           4.0             3.35                 3.75       3.55   \n",
      "2     4.00           4.5             3.20                 4.05       3.90   \n",
      "3     0.90           4.2             1.10                 2.35       2.70   \n",
      "4     0.70           1.4             1.45                 1.70       2.55   \n",
      "\n",
      "   RT_norm_round  RT_user_norm_round  Metacritic_norm_round  \\\n",
      "0            3.5                 4.5                    3.5   \n",
      "1            4.5                 4.0                    3.5   \n",
      "2            4.0                 4.5                    3.0   \n",
      "3            1.0                 4.0                    1.0   \n",
      "4            0.5                 1.5                    1.5   \n",
      "\n",
      "   Metacritic_user_norm_round  IMDB_norm_round  Metacritic_user_vote_count  \\\n",
      "0                         3.5              4.0                        1330   \n",
      "1                         4.0              3.5                         249   \n",
      "2                         4.0              4.0                         627   \n",
      "3                         2.5              2.5                          31   \n",
      "4                         1.5              2.5                          88   \n",
      "\n",
      "   IMDB_user_vote_count  Fandango_votes  Fandango_Difference  \n",
      "0                271107           14846                  0.5  \n",
      "1                 65709           12640                  0.5  \n",
      "2                103660           12055                  0.5  \n",
      "3                  3136            1793                  0.5  \n",
      "4                 19560            1021                  0.5  \n",
      "                     movie  year  metascore  imdb  tmeter  audience  fandango  \\\n",
      "0      10 Cloverfield Lane  2016         76   7.2      90        79       3.5   \n",
      "1                 13 Hours  2016         48   7.3      50        83       4.5   \n",
      "2      A Cure for Wellness  2016         47   6.6      40        47       3.0   \n",
      "3          A Dog's Purpose  2017         43   5.2      33        76       4.5   \n",
      "4  A Hologram for the King  2016         58   6.1      70        57       3.0   \n",
      "\n",
      "   n_metascore  n_imdb  n_tmeter  n_audience  nr_metascore  nr_imdb  \\\n",
      "0         3.80    3.60      4.50        3.95           4.0      3.5   \n",
      "1         2.40    3.65      2.50        4.15           2.5      3.5   \n",
      "2         2.35    3.30      2.00        2.35           2.5      3.5   \n",
      "3         2.15    2.60      1.65        3.80           2.0      2.5   \n",
      "4         2.90    3.05      3.50        2.85           3.0      3.0   \n",
      "\n",
      "   nr_tmeter  nr_audience  \n",
      "0        4.5          4.0  \n",
      "1        2.5          4.0  \n",
      "2        2.0          2.5  \n",
      "3        1.5          4.0  \n",
      "4        3.5          3.0  \n"
     ]
    }
   ],
   "source": [
    "%matplotlib inline\n",
    "import pandas as pd\n",
    "pd.options.display.max_columns = 100 # To expand all dfs\n",
    "# importing data\n",
    "previous = pd.read_csv(\"fandango_score_comparison.csv\")\n",
    "after = pd.read_csv(\"movie_ratings_16_17.csv\")\n",
    "# cols to isolate for later usage\n",
    "previous_cols = [\"FILM\", \"Fandango_Stars\", \"Fandango_Ratingvalue\", \"Fandango_votes\", \"Fandango_Difference\"]\n",
    "after_cols = [\"movie\", \"year\", \"fandango\"]\n",
    "previous_fandango = previous[previous_cols].copy()\n",
    "after_fandango = after[after_cols].copy()\n",
    "# verify data\n",
    "print(fandango.head(5))\n",
    "print(movies1617.head(5))"
   ]
  },
  {
   "cell_type": "code",
   "execution_count": 117,
   "metadata": {},
   "outputs": [
    {
     "name": "stdout",
     "output_type": "stream",
     "text": [
      "                  FILM  RottenTomatoes  RottenTomatoes_User  Metacritic  \\\n",
      "98     Get Hard (2015)              29                   48          34   \n",
      "66     The Gift (2015)              93                   79          77   \n",
      "53  Hot Pursuit (2015)               8                   37          31   \n",
      "\n",
      "    Metacritic_User  IMDB  Fandango_Stars  Fandango_Ratingvalue  RT_norm  \\\n",
      "98              3.8   6.1             4.0                   3.9     1.45   \n",
      "66              8.3   7.6             4.0                   3.7     4.65   \n",
      "53              3.7   4.9             4.0                   3.7     0.40   \n",
      "\n",
      "    RT_user_norm  Metacritic_norm  Metacritic_user_nom  IMDB_norm  \\\n",
      "98          2.40             1.70                 1.90       3.05   \n",
      "66          3.95             3.85                 4.15       3.80   \n",
      "53          1.85             1.55                 1.85       2.45   \n",
      "\n",
      "    RT_norm_round  RT_user_norm_round  Metacritic_norm_round  \\\n",
      "98            1.5                 2.5                    1.5   \n",
      "66            4.5                 4.0                    4.0   \n",
      "53            0.5                 2.0                    1.5   \n",
      "\n",
      "    Metacritic_user_norm_round  IMDB_norm_round  Metacritic_user_vote_count  \\\n",
      "98                         2.0              3.0                         145   \n",
      "66                         4.0              4.0                         121   \n",
      "53                         2.0              2.5                          78   \n",
      "\n",
      "    IMDB_user_vote_count  Fandango_votes  Fandango_Difference  \n",
      "98                 50022            5933                  0.1  \n",
      "66                 10891            2680                  0.3  \n",
      "53                 17061            2618                  0.3  \n",
      "             movie  year  metascore  imdb  tmeter  audience  fandango  \\\n",
      "20   Before I Fall  2017         58   6.5      66        65       3.5   \n",
      "139          Risen  2016         51   6.3      51        70       4.5   \n",
      "105    Masterminds  2016         47   5.8      33        36       3.5   \n",
      "\n",
      "     n_metascore  n_imdb  n_tmeter  n_audience  nr_metascore  nr_imdb  \\\n",
      "20          2.90    3.25      3.30        3.25           3.0      3.0   \n",
      "139         2.55    3.15      2.55        3.50           2.5      3.0   \n",
      "105         2.35    2.90      1.65        1.80           2.5      3.0   \n",
      "\n",
      "     nr_tmeter  nr_audience  \n",
      "20         3.5          3.0  \n",
      "139        2.5          3.5  \n",
      "105        1.5          2.0  \n"
     ]
    }
   ],
   "source": [
    "previous_sample_fandango = previous[previous[\"Fandango_votes\"] > 30].sample(30, random_state=1)\n",
    "after_sample_fandango = after[after[\"tmeter\"] > 30].sample(30, random_state=1)\n",
    "print(previous_sample_fandango.head(3))\n",
    "print(after_sample_fandango.head(3))"
   ]
  },
  {
   "cell_type": "code",
   "execution_count": 115,
   "metadata": {},
   "outputs": [
    {
     "name": "stdout",
     "output_type": "stream",
     "text": [
      "                             FILM  RottenTomatoes  RottenTomatoes_User  \\\n",
      "0  Avengers: Age of Ultron (2015)              74                   86   \n",
      "1               Cinderella (2015)              85                   80   \n",
      "2                  Ant-Man (2015)              80                   90   \n",
      "3          Do You Believe? (2015)              18                   84   \n",
      "4   Hot Tub Time Machine 2 (2015)              14                   28   \n",
      "\n",
      "   Metacritic  Metacritic_User  IMDB  Fandango_Stars  Fandango_Ratingvalue  \\\n",
      "0          66              7.1   7.8             5.0                   4.5   \n",
      "1          67              7.5   7.1             5.0                   4.5   \n",
      "2          64              8.1   7.8             5.0                   4.5   \n",
      "3          22              4.7   5.4             5.0                   4.5   \n",
      "4          29              3.4   5.1             3.5                   3.0   \n",
      "\n",
      "   RT_norm  RT_user_norm  Metacritic_norm  Metacritic_user_nom  IMDB_norm  \\\n",
      "0     3.70           4.3             3.30                 3.55       3.90   \n",
      "1     4.25           4.0             3.35                 3.75       3.55   \n",
      "2     4.00           4.5             3.20                 4.05       3.90   \n",
      "3     0.90           4.2             1.10                 2.35       2.70   \n",
      "4     0.70           1.4             1.45                 1.70       2.55   \n",
      "\n",
      "   RT_norm_round  RT_user_norm_round  Metacritic_norm_round  \\\n",
      "0            3.5                 4.5                    3.5   \n",
      "1            4.5                 4.0                    3.5   \n",
      "2            4.0                 4.5                    3.0   \n",
      "3            1.0                 4.0                    1.0   \n",
      "4            0.5                 1.5                    1.5   \n",
      "\n",
      "   Metacritic_user_norm_round  IMDB_norm_round  Metacritic_user_vote_count  \\\n",
      "0                         3.5              4.0                        1330   \n",
      "1                         4.0              3.5                         249   \n",
      "2                         4.0              4.0                         627   \n",
      "3                         2.5              2.5                          31   \n",
      "4                         1.5              2.5                          88   \n",
      "\n",
      "   IMDB_user_vote_count  Fandango_votes  Fandango_Difference  \n",
      "0                271107           14846                  0.5  \n",
      "1                 65709           12640                  0.5  \n",
      "2                103660           12055                  0.5  \n",
      "3                  3136            1793                  0.5  \n",
      "4                 19560            1021                  0.5  \n",
      "                     movie  year  metascore  imdb  tmeter  audience  fandango  \\\n",
      "0      10 Cloverfield Lane  2016         76   7.2      90        79       3.5   \n",
      "1                 13 Hours  2016         48   7.3      50        83       4.5   \n",
      "2      A Cure for Wellness  2016         47   6.6      40        47       3.0   \n",
      "4  A Hologram for the King  2016         58   6.1      70        57       3.0   \n",
      "5          A Monster Calls  2016         76   7.5      87        84       4.0   \n",
      "\n",
      "   n_metascore  n_imdb  n_tmeter  n_audience  nr_metascore  nr_imdb  \\\n",
      "0         3.80    3.60      4.50        3.95           4.0      3.5   \n",
      "1         2.40    3.65      2.50        4.15           2.5      3.5   \n",
      "2         2.35    3.30      2.00        2.35           2.5      3.5   \n",
      "4         2.90    3.05      3.50        2.85           3.0      3.0   \n",
      "5         3.80    3.75      4.35        4.20           4.0      4.0   \n",
      "\n",
      "   nr_tmeter  nr_audience  \n",
      "0        4.5          4.0  \n",
      "1        2.5          4.0  \n",
      "2        2.0          2.5  \n",
      "4        3.5          3.0  \n",
      "5        4.5          4.0  \n"
     ]
    }
   ],
   "source": [
    "# Extract the 2015 & 2016 movies with boolean series\n",
    "films_in_2015 = previous[\"FILM\"].str.contains(\"2015\")\n",
    "after_2016 = after[after[\"year\"] == 2016]\n",
    "# Make the df copy\n",
    "previous_2015 = previous[films_in_2015].copy()\n",
    "print(previous_2015.head(5))\n",
    "print(after_2016.head(5))"
   ]
  },
  {
   "cell_type": "markdown",
   "metadata": {},
   "source": [
    "# Visualization charts"
   ]
  },
  {
   "cell_type": "code",
   "execution_count": 124,
   "metadata": {},
   "outputs": [
    {
     "data": {
      "image/png": "[encoded data removed]",
      "text/plain": [
       "<Figure size 576x432 with 1 Axes>"
      ]
     },
     "metadata": {},
     "output_type": "display_data"
    }
   ],
   "source": [
    "import matplotlib.pyplot as plt\n",
    "import seaborn as sns\n",
    "\n",
    "fig, ax = plt.subplots(figsize=(8,6))\n",
    "plt.title(\"Distribution of Movies Ratings\\n(2015 & 2016)\", fontsize=20)\n",
    "plt.xlabel(\"Stars\", fontsize=12)\n",
    "plt.yticks([])\n",
    "plt.xlim(0.5,5)\n",
    "plt.style.use('fivethirtyeight')\n",
    "sns.kdeplot(previous_sample_fandango[\"Fandango_Stars\"], ax=ax, label=\"2015\", linewidth=2)\n",
    "sns.kdeplot(after_sample_fandango[\"fandango\"], ax=ax, label=\"2016\", linewidth=2)\n",
    "plt.show()"
   ]
  },
  {
   "cell_type": "code",
   "execution_count": 128,
   "metadata": {},
   "outputs": [
    {
     "name": "stdout",
     "output_type": "stream",
     "text": [
      "2015\n",
      "----------------\n",
      "3.0     8.527132\n",
      "3.5    17.829457\n",
      "4.0    28.682171\n",
      "4.5    37.984496\n",
      "5.0     6.976744\n",
      "Name: Fandango_Stars, dtype: float64\n",
      "2016\n",
      "----------------\n",
      "2.5     3.141361\n",
      "3.0     7.329843\n",
      "3.5    24.083770\n",
      "4.0    40.314136\n",
      "4.5    24.607330\n",
      "5.0     0.523560\n",
      "Name: fandango, dtype: float64\n"
     ]
    }
   ],
   "source": [
    "# Neat trick\n",
    "print(\"2015\" + \"\\n\" + \"-\"*16)\n",
    "print(previous_2015['Fandango_Stars'].value_counts(normalize=True).sort_index() * 100)\n",
    "print(\"2016\" + \"\\n\" + \"-\"*16)\n",
    "print(after_2016['fandango'].value_counts(normalize=True).sort_index() * 100)"
   ]
  },
  {
   "cell_type": "markdown",
   "metadata": {},
   "source": [
    "# Computing mean, median, and mode for each distribution"
   ]
  },
  {
   "cell_type": "code",
   "execution_count": 201,
   "metadata": {},
   "outputs": [
    {
     "data": {
      "text/html": [
       "<div>\n",
       "<style scoped>\n",
       "    .dataframe tbody tr th:only-of-type {\n",
       "        vertical-align: middle;\n",
       "    }\n",
       "\n",
       "    .dataframe tbody tr th {\n",
       "        vertical-align: top;\n",
       "    }\n",
       "\n",
       "    .dataframe thead th {\n",
       "        text-align: right;\n",
       "    }\n",
       "</style>\n",
       "<table border=\"1\" class=\"dataframe\">\n",
       "  <thead>\n",
       "    <tr style=\"text-align: right;\">\n",
       "      <th></th>\n",
       "      <th>2015</th>\n",
       "      <th>2016</th>\n",
       "    </tr>\n",
       "  </thead>\n",
       "  <tbody>\n",
       "    <tr>\n",
       "      <th>mean</th>\n",
       "      <td>4.089041</td>\n",
       "      <td>3.89486</td>\n",
       "    </tr>\n",
       "    <tr>\n",
       "      <th>median</th>\n",
       "      <td>4.000000</td>\n",
       "      <td>4.00000</td>\n",
       "    </tr>\n",
       "    <tr>\n",
       "      <th>mode</th>\n",
       "      <td>4.500000</td>\n",
       "      <td>4.00000</td>\n",
       "    </tr>\n",
       "  </tbody>\n",
       "</table>\n",
       "</div>"
      ],
      "text/plain": [
       "            2015     2016\n",
       "mean    4.089041  3.89486\n",
       "median  4.000000  4.00000\n",
       "mode    4.500000  4.00000"
      ]
     },
     "execution_count": 201,
     "metadata": {},
     "output_type": "execute_result"
    }
   ],
   "source": [
    "previous_mean = previous[\"Fandango_Stars\"].mean()\n",
    "previous_median = previous[\"Fandango_Stars\"].median()\n",
    "previous_mode = previous[\"Fandango_Stars\"].mode()[0]\n",
    "\n",
    "after_mean = after[\"fandango\"].mean()\n",
    "after_median = after[\"fandango\"].median()\n",
    "after_mode = after[\"fandango\"].mode()[0]\n",
    "\n",
    "summary = pd.DataFrame()\n",
    "summary[\"2015\"] = [previous_mean, previous_median, previous_mode]\n",
    "summary[\"2016\"] = [after_mean, after_median, after_mode]\n",
    "summary.index = ['mean', 'median', 'mode']\n",
    "summary"
   ]
  },
  {
   "cell_type": "code",
   "execution_count": 209,
   "metadata": {},
   "outputs": [
    {
     "data": {
      "text/plain": [
       "<matplotlib.legend.Legend at 0x1a1f3df438>"
      ]
     },
     "execution_count": 209,
     "metadata": {},
     "output_type": "execute_result"
    },
    {
     "data": {
      "image/png": "[encoded data removed]",
      "text/plain": [
       "<Figure size 432x288 with 1 Axes>"
      ]
     },
     "metadata": {},
     "output_type": "display_data"
    }
   ],
   "source": [
    "plt.style.use('fivethirtyeight')\n",
    "summary.plot.bar(title=\"Comparing summary stats\", rot=0)\n",
    "plt.ylim(0,5.5)\n",
    "plt.ylabel(\"Stars\")\n",
    "plt.legend(framealpha=0, loc='upper center')"
   ]
  }
 ],
 "metadata": {
  "kernelspec": {
   "display_name": "Python 3",
   "language": "python",
   "name": "python3"
  },
  "language_info": {
   "codemirror_mode": {
    "name": "ipython",
    "version": 3
   },
   "file_extension": ".py",
   "mimetype": "text/x-python",
   "name": "python",
   "nbconvert_exporter": "python",
   "pygments_lexer": "ipython3",
   "version": "3.6.5"
  }
 },
 "nbformat": 4,
 "nbformat_minor": 2
}
